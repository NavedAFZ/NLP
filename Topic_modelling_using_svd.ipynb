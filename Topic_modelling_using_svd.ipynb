{
  "nbformat": 4,
  "nbformat_minor": 0,
  "metadata": {
    "colab": {
      "name": "Topic_modelling_using svd.ipynb",
      "provenance": [],
      "authorship_tag": "ABX9TyNaKbuKViqzZ1YAEqONaM0Y",
      "include_colab_link": true
    },
    "kernelspec": {
      "name": "python3",
      "display_name": "Python 3"
    }
  },
  "cells": [
    {
      "cell_type": "markdown",
      "metadata": {
        "id": "view-in-github",
        "colab_type": "text"
      },
      "source": [
        "<a href=\"https://colab.research.google.com/github/NavedAFZ/NLP/blob/master/Topic_modelling_using_svd.ipynb\" target=\"_parent\"><img src=\"https://colab.research.google.com/assets/colab-badge.svg\" alt=\"Open In Colab\"/></a>"
      ]
    },
    {
      "cell_type": "code",
      "metadata": {
        "id": "glfd2gmlOsJi",
        "colab_type": "code",
        "colab": {}
      },
      "source": [
        "import numpy as np\n",
        "from sklearn.datasets import fetch_20newsgroups\n",
        "from sklearn import decomposition\n",
        "from scipy import linalg\n",
        "import matplotlib.pyplot as plt"
      ],
      "execution_count": 1,
      "outputs": []
    },
    {
      "cell_type": "code",
      "metadata": {
        "id": "UtJH_q9wO5fn",
        "colab_type": "code",
        "colab": {}
      },
      "source": [
        "%matplotlib inline\n",
        "np.set_printoptions(suppress=True)"
      ],
      "execution_count": 2,
      "outputs": []
    },
    {
      "cell_type": "code",
      "metadata": {
        "id": "uBQpY8WLO9HM",
        "colab_type": "code",
        "colab": {
          "base_uri": "https://localhost:8080/",
          "height": 52
        },
        "outputId": "623d1445-0bd1-43d3-f10c-095cf3357a13"
      },
      "source": [
        "categories = ['alt.atheism', 'talk.religion.misc', 'comp.graphics', 'sci.space']\n",
        "remove = ('headers', 'footers', 'quotes')\n",
        "newsgroups_train = fetch_20newsgroups(subset='train', categories=categories, remove=remove)\n",
        "newsgroups_test = fetch_20newsgroups(subset='test', categories=categories, remove=remove)"
      ],
      "execution_count": 3,
      "outputs": [
        {
          "output_type": "stream",
          "text": [
            "Downloading 20news dataset. This may take a few minutes.\n",
            "Downloading dataset from https://ndownloader.figshare.com/files/5975967 (14 MB)\n"
          ],
          "name": "stderr"
        }
      ]
    },
    {
      "cell_type": "code",
      "metadata": {
        "id": "jBbicgaWPBAW",
        "colab_type": "code",
        "colab": {
          "base_uri": "https://localhost:8080/",
          "height": 35
        },
        "outputId": "1ebd78d9-48d1-4052-a480-f02ae69b95e3"
      },
      "source": [
        "newsgroups_train.filenames.shape, newsgroups_train.target.shape"
      ],
      "execution_count": 4,
      "outputs": [
        {
          "output_type": "execute_result",
          "data": {
            "text/plain": [
              "((2034,), (2034,))"
            ]
          },
          "metadata": {
            "tags": []
          },
          "execution_count": 4
        }
      ]
    },
    {
      "cell_type": "code",
      "metadata": {
        "id": "5uCzQvekPN1U",
        "colab_type": "code",
        "colab": {}
      },
      "source": [
        "print(\"\\n\".join(newsgroups_train.data[:3]))"
      ],
      "execution_count": null,
      "outputs": []
    },
    {
      "cell_type": "code",
      "metadata": {
        "id": "cdHwr9U3Pblz",
        "colab_type": "code",
        "colab": {
          "base_uri": "https://localhost:8080/",
          "height": 35
        },
        "outputId": "64d02874-30b9-4f8c-dfb5-a915041e01b2"
      },
      "source": [
        "np.array(newsgroups_train.target_names)[newsgroups_train.target[:3]]\n"
      ],
      "execution_count": null,
      "outputs": [
        {
          "output_type": "execute_result",
          "data": {
            "text/plain": [
              "array(['comp.graphics', 'talk.religion.misc', 'sci.space'], dtype='<U18')"
            ]
          },
          "metadata": {
            "tags": []
          },
          "execution_count": 7
        }
      ]
    },
    {
      "cell_type": "code",
      "metadata": {
        "id": "wgHfd6IwPmsV",
        "colab_type": "code",
        "colab": {
          "base_uri": "https://localhost:8080/",
          "height": 35
        },
        "outputId": "7cef3989-16bf-4a3d-a660-de2acc386e52"
      },
      "source": [
        "newsgroups_train.target[:10]\n"
      ],
      "execution_count": 6,
      "outputs": [
        {
          "output_type": "execute_result",
          "data": {
            "text/plain": [
              "array([1, 3, 2, 0, 2, 0, 2, 1, 2, 1])"
            ]
          },
          "metadata": {
            "tags": []
          },
          "execution_count": 6
        }
      ]
    },
    {
      "cell_type": "code",
      "metadata": {
        "id": "Smbp43jkPnS0",
        "colab_type": "code",
        "colab": {}
      },
      "source": [
        "\n",
        "num_topics, num_top_words = 6, 8"
      ],
      "execution_count": 7,
      "outputs": []
    },
    {
      "cell_type": "code",
      "metadata": {
        "id": "--XjNlO7P2Dy",
        "colab_type": "code",
        "colab": {
          "base_uri": "https://localhost:8080/",
          "height": 428
        },
        "outputId": "356b47ed-e9c6-4ebf-df3c-c59d9244cd54"
      },
      "source": [
        "from sklearn.feature_extraction import stop_words\n",
        "\n",
        "sorted(list(stop_words.ENGLISH_STOP_WORDS))[:20]"
      ],
      "execution_count": 8,
      "outputs": [
        {
          "output_type": "stream",
          "text": [
            "/usr/local/lib/python3.6/dist-packages/sklearn/utils/deprecation.py:144: FutureWarning: The sklearn.feature_extraction.stop_words module is  deprecated in version 0.22 and will be removed in version 0.24. The corresponding classes / functions should instead be imported from sklearn.feature_extraction.text. Anything that cannot be imported from sklearn.feature_extraction.text is now part of the private API.\n",
            "  warnings.warn(message, FutureWarning)\n"
          ],
          "name": "stderr"
        },
        {
          "output_type": "execute_result",
          "data": {
            "text/plain": [
              "['a',\n",
              " 'about',\n",
              " 'above',\n",
              " 'across',\n",
              " 'after',\n",
              " 'afterwards',\n",
              " 'again',\n",
              " 'against',\n",
              " 'all',\n",
              " 'almost',\n",
              " 'alone',\n",
              " 'along',\n",
              " 'already',\n",
              " 'also',\n",
              " 'although',\n",
              " 'always',\n",
              " 'am',\n",
              " 'among',\n",
              " 'amongst',\n",
              " 'amoungst']"
            ]
          },
          "metadata": {
            "tags": []
          },
          "execution_count": 8
        }
      ]
    },
    {
      "cell_type": "markdown",
      "metadata": {
        "id": "t-AEs1trTP1U",
        "colab_type": "text"
      },
      "source": [
        "#Stemming and Lemmatization¶"
      ]
    },
    {
      "cell_type": "code",
      "metadata": {
        "id": "FFl77kQpTG5d",
        "colab_type": "code",
        "colab": {
          "base_uri": "https://localhost:8080/",
          "height": 70
        },
        "outputId": "80d350d4-bd91-4d97-d590-a6bf69ab7b3f"
      },
      "source": [
        "import nltk\n",
        "nltk.download('wordnet')"
      ],
      "execution_count": 9,
      "outputs": [
        {
          "output_type": "stream",
          "text": [
            "[nltk_data] Downloading package wordnet to /root/nltk_data...\n",
            "[nltk_data]   Unzipping corpora/wordnet.zip.\n"
          ],
          "name": "stdout"
        },
        {
          "output_type": "execute_result",
          "data": {
            "text/plain": [
              "True"
            ]
          },
          "metadata": {
            "tags": []
          },
          "execution_count": 9
        }
      ]
    },
    {
      "cell_type": "code",
      "metadata": {
        "id": "QDhHqa0bTYJy",
        "colab_type": "code",
        "colab": {}
      },
      "source": [
        "from nltk import stem"
      ],
      "execution_count": 10,
      "outputs": []
    },
    {
      "cell_type": "code",
      "metadata": {
        "id": "XFuTpglqTbe8",
        "colab_type": "code",
        "colab": {}
      },
      "source": [
        "wnl = stem.WordNetLemmatizer()\n",
        "porter = stem.porter.PorterStemmer()"
      ],
      "execution_count": 11,
      "outputs": []
    },
    {
      "cell_type": "code",
      "metadata": {
        "id": "X0VOCvemTf0Q",
        "colab_type": "code",
        "colab": {
          "base_uri": "https://localhost:8080/",
          "height": 35
        },
        "outputId": "26e2452e-cc0c-477b-cb00-21b354c1c92a"
      },
      "source": [
        "word_list = ['feet', 'foot', 'foots', 'footing']\n",
        "\n",
        "[wnl.lemmatize(word) for word in word_list]\n"
      ],
      "execution_count": 12,
      "outputs": [
        {
          "output_type": "execute_result",
          "data": {
            "text/plain": [
              "['foot', 'foot', 'foot', 'footing']"
            ]
          },
          "metadata": {
            "tags": []
          },
          "execution_count": 12
        }
      ]
    },
    {
      "cell_type": "code",
      "metadata": {
        "id": "0urwR-s3ToMD",
        "colab_type": "code",
        "colab": {
          "base_uri": "https://localhost:8080/",
          "height": 35
        },
        "outputId": "11018bdf-ca4d-41cb-e130-86a195f0a5bd"
      },
      "source": [
        "[porter.stem(word) for word in word_list]"
      ],
      "execution_count": 13,
      "outputs": [
        {
          "output_type": "execute_result",
          "data": {
            "text/plain": [
              "['feet', 'foot', 'foot', 'foot']"
            ]
          },
          "metadata": {
            "tags": []
          },
          "execution_count": 13
        }
      ]
    },
    {
      "cell_type": "code",
      "metadata": {
        "id": "r9_ILSDTTp9z",
        "colab_type": "code",
        "colab": {}
      },
      "source": [
        ""
      ],
      "execution_count": 13,
      "outputs": []
    },
    {
      "cell_type": "markdown",
      "metadata": {
        "id": "Ii1pHD5sXvfA",
        "colab_type": "text"
      },
      "source": [
        "#Data preprocessing"
      ]
    },
    {
      "cell_type": "code",
      "metadata": {
        "id": "6duJEjWLXyLD",
        "colab_type": "code",
        "colab": {}
      },
      "source": [
        "from sklearn.feature_extraction.text import CountVectorizer, TfidfVectorizer"
      ],
      "execution_count": 14,
      "outputs": []
    },
    {
      "cell_type": "code",
      "metadata": {
        "id": "Nf6HGqcWYeZe",
        "colab_type": "code",
        "colab": {}
      },
      "source": [
        ""
      ],
      "execution_count": 14,
      "outputs": []
    },
    {
      "cell_type": "code",
      "metadata": {
        "id": "DG4drJxXX8Sj",
        "colab_type": "code",
        "colab": {
          "base_uri": "https://localhost:8080/",
          "height": 70
        },
        "outputId": "50d3da15-8b7f-444b-93cb-6664458ec529"
      },
      "source": [
        "import nltk\n",
        "nltk.download('punkt')"
      ],
      "execution_count": 15,
      "outputs": [
        {
          "output_type": "stream",
          "text": [
            "[nltk_data] Downloading package punkt to /root/nltk_data...\n",
            "[nltk_data]   Unzipping tokenizers/punkt.zip.\n"
          ],
          "name": "stdout"
        },
        {
          "output_type": "execute_result",
          "data": {
            "text/plain": [
              "True"
            ]
          },
          "metadata": {
            "tags": []
          },
          "execution_count": 15
        }
      ]
    },
    {
      "cell_type": "code",
      "metadata": {
        "id": "v1EGhnJlYAR7",
        "colab_type": "code",
        "colab": {
          "base_uri": "https://localhost:8080/",
          "height": 35
        },
        "outputId": "fac003fd-7f93-49eb-eac8-82a2c6373b3b"
      },
      "source": [
        "vectorizer = CountVectorizer(stop_words='english') #, tokenizer=LemmaTokenizer())\n",
        "vectors = vectorizer.fit_transform(newsgroups_train.data).todense() # (documents, vocab)\n",
        "vectors.shape "
      ],
      "execution_count": 16,
      "outputs": [
        {
          "output_type": "execute_result",
          "data": {
            "text/plain": [
              "(2034, 26576)"
            ]
          },
          "metadata": {
            "tags": []
          },
          "execution_count": 16
        }
      ]
    },
    {
      "cell_type": "code",
      "metadata": {
        "id": "NaWxsyXyYOI-",
        "colab_type": "code",
        "colab": {
          "base_uri": "https://localhost:8080/",
          "height": 35
        },
        "outputId": "01309404-3f79-46aa-ba17-a86d59a36214"
      },
      "source": [
        "print(len(newsgroups_train.data), vectors.shape)\n"
      ],
      "execution_count": 17,
      "outputs": [
        {
          "output_type": "stream",
          "text": [
            "2034 (2034, 26576)\n"
          ],
          "name": "stdout"
        }
      ]
    },
    {
      "cell_type": "code",
      "metadata": {
        "id": "8IucxhxkYdkd",
        "colab_type": "code",
        "colab": {}
      },
      "source": [
        "vocab = np.array(vectorizer.get_feature_names())\n"
      ],
      "execution_count": 18,
      "outputs": []
    },
    {
      "cell_type": "code",
      "metadata": {
        "id": "L8qNQNdBY9i6",
        "colab_type": "code",
        "colab": {
          "base_uri": "https://localhost:8080/",
          "height": 35
        },
        "outputId": "86ebf491-50a8-4495-eb22-0e61f687a895"
      },
      "source": [
        "vocab.shape\n"
      ],
      "execution_count": 19,
      "outputs": [
        {
          "output_type": "execute_result",
          "data": {
            "text/plain": [
              "(26576,)"
            ]
          },
          "metadata": {
            "tags": []
          },
          "execution_count": 19
        }
      ]
    },
    {
      "cell_type": "code",
      "metadata": {
        "id": "mt81v9e4ZC5b",
        "colab_type": "code",
        "colab": {
          "base_uri": "https://localhost:8080/",
          "height": 88
        },
        "outputId": "18525eee-46df-4429-9734-9cae7cb611c7"
      },
      "source": [
        "vocab[7000:7020]"
      ],
      "execution_count": 20,
      "outputs": [
        {
          "output_type": "execute_result",
          "data": {
            "text/plain": [
              "array(['cosmonauts', 'cosmos', 'cosponsored', 'cost', 'costa', 'costar',\n",
              "       'costing', 'costly', 'costruction', 'costs', 'cosy', 'cote',\n",
              "       'couched', 'couldn', 'council', 'councils', 'counsel',\n",
              "       'counselees', 'counselor', 'count'], dtype='<U80')"
            ]
          },
          "metadata": {
            "tags": []
          },
          "execution_count": 20
        }
      ]
    },
    {
      "cell_type": "markdown",
      "metadata": {
        "id": "yEWroUUvHbSr",
        "colab_type": "text"
      },
      "source": [
        "#Singular Value Decomposition (SVD)"
      ]
    },
    {
      "cell_type": "code",
      "metadata": {
        "id": "of1yUWvSZD5U",
        "colab_type": "code",
        "colab": {
          "base_uri": "https://localhost:8080/",
          "height": 52
        },
        "outputId": "3e18df08-fb76-469b-fad2-343b6712e774"
      },
      "source": [
        "%time U, s, Vh = linalg.svd(vectors, full_matrices=False)"
      ],
      "execution_count": 21,
      "outputs": [
        {
          "output_type": "stream",
          "text": [
            "CPU times: user 1min 14s, sys: 3.89 s, total: 1min 18s\n",
            "Wall time: 40.4 s\n"
          ],
          "name": "stdout"
        }
      ]
    },
    {
      "cell_type": "code",
      "metadata": {
        "id": "qLOnWx4fHoqA",
        "colab_type": "code",
        "colab": {
          "base_uri": "https://localhost:8080/",
          "height": 35
        },
        "outputId": "aa43bfcf-5e62-45c2-b124-f41aa4d0aacb"
      },
      "source": [
        "print(U.shape, s.shape, Vh.shape)\n"
      ],
      "execution_count": 22,
      "outputs": [
        {
          "output_type": "stream",
          "text": [
            "(2034, 2034) (2034,) (2034, 26576)\n"
          ],
          "name": "stdout"
        }
      ]
    },
    {
      "cell_type": "code",
      "metadata": {
        "id": "Sy6y0s2EIB-s",
        "colab_type": "code",
        "colab": {
          "base_uri": "https://localhost:8080/",
          "height": 35
        },
        "outputId": "d42cc7c5-faf5-405c-a511-1078b8748ee0"
      },
      "source": [
        "s[:4]\n",
        "np.diag(np.diag(s[:4]))"
      ],
      "execution_count": 23,
      "outputs": [
        {
          "output_type": "execute_result",
          "data": {
            "text/plain": [
              "array([433.92698542, 291.51012741, 240.71137677, 220.00048043])"
            ]
          },
          "metadata": {
            "tags": []
          },
          "execution_count": 23
        }
      ]
    },
    {
      "cell_type": "markdown",
      "metadata": {
        "id": "fxtWkG22cHi4",
        "colab_type": "text"
      },
      "source": [
        "# confirm that U, s, Vh is a decomposition of `vectors`"
      ]
    },
    {
      "cell_type": "code",
      "metadata": {
        "id": "HSBDNGo_cK1S",
        "colab_type": "code",
        "colab": {
          "base_uri": "https://localhost:8080/",
          "height": 35
        },
        "outputId": "7f8bdd47-42e0-4f42-b6d5-3a51d11eb32f"
      },
      "source": [
        "a=U @ np.diag(s) @ Vh\n",
        "np.allclose(a,vectors)"
      ],
      "execution_count": 24,
      "outputs": [
        {
          "output_type": "execute_result",
          "data": {
            "text/plain": [
              "True"
            ]
          },
          "metadata": {
            "tags": []
          },
          "execution_count": 24
        }
      ]
    },
    {
      "cell_type": "markdown",
      "metadata": {
        "id": "XDXHMTURc-2X",
        "colab_type": "text"
      },
      "source": [
        "#Confirm that U, Vh are orthonormal"
      ]
    },
    {
      "cell_type": "code",
      "metadata": {
        "id": "08LDmYtWc6nG",
        "colab_type": "code",
        "colab": {
          "base_uri": "https://localhost:8080/",
          "height": 35
        },
        "outputId": "eef13159-a17b-491d-e935-930cb2b40f5c"
      },
      "source": [
        "np.allclose((U @ np.transpose(U)), np.eye(U.shape[0]))"
      ],
      "execution_count": null,
      "outputs": [
        {
          "output_type": "execute_result",
          "data": {
            "text/plain": [
              "True"
            ]
          },
          "metadata": {
            "tags": []
          },
          "execution_count": 27
        }
      ]
    },
    {
      "cell_type": "code",
      "metadata": {
        "id": "5ACM4VCocY4v",
        "colab_type": "code",
        "colab": {}
      },
      "source": [
        "np.allclose(( np.transpose(Vh) @ Vh), np.eye(Vh.shape[0]))"
      ],
      "execution_count": null,
      "outputs": []
    },
    {
      "cell_type": "code",
      "metadata": {
        "id": "ng9qbnDTdf9B",
        "colab_type": "code",
        "colab": {}
      },
      "source": [
        ""
      ],
      "execution_count": null,
      "outputs": []
    },
    {
      "cell_type": "markdown",
      "metadata": {
        "id": "blD0P8BD17p_",
        "colab_type": "text"
      },
      "source": [
        "# Getting sense of dats"
      ]
    },
    {
      "cell_type": "code",
      "metadata": {
        "id": "4hqsbsgf1_cA",
        "colab_type": "code",
        "colab": {}
      },
      "source": [
        "num_top_words=8\n",
        "\n",
        "def show_topics(a):\n",
        "    top_words = lambda t: [vocab[i] for i in np.argsort(t)[:-num_top_words-1:-1]]\n",
        "    topic_words = ([top_words(t) for t in a])\n",
        "    return [' '.join(t) for t in topic_words]"
      ],
      "execution_count": 25,
      "outputs": []
    },
    {
      "cell_type": "code",
      "metadata": {
        "id": "P2DeaT6C2Dao",
        "colab_type": "code",
        "colab": {
          "base_uri": "https://localhost:8080/",
          "height": 195
        },
        "outputId": "ecd5a3d5-96e0-41bd-d06e-b20832e23e17"
      },
      "source": [
        "show_topics(Vh[:10])"
      ],
      "execution_count": 26,
      "outputs": [
        {
          "output_type": "execute_result",
          "data": {
            "text/plain": [
              "['ditto critus propagandist surname galacticentric kindergarten surreal imaginative',\n",
              " 'jpeg gif file color quality image jfif format',\n",
              " 'graphics edu pub mail 128 3d ray ftp',\n",
              " 'jesus god matthew people atheists atheism does graphics',\n",
              " 'image data processing analysis software available tools display',\n",
              " 'god atheists atheism religious believe religion argument true',\n",
              " 'space nasa lunar mars probe moon missions probes',\n",
              " 'image probe surface lunar mars probes moon orbit',\n",
              " 'argument fallacy conclusion example true ad argumentum premises',\n",
              " 'space larson image theory universe physical nasa material']"
            ]
          },
          "metadata": {
            "tags": []
          },
          "execution_count": 26
        }
      ]
    },
    {
      "cell_type": "code",
      "metadata": {
        "id": "TolHkkzH2EDo",
        "colab_type": "code",
        "colab": {}
      },
      "source": [
        "a1=Vh[:10]"
      ],
      "execution_count": 32,
      "outputs": []
    },
    {
      "cell_type": "code",
      "metadata": {
        "id": "w1XE6X8Z2W5U",
        "colab_type": "code",
        "colab": {
          "base_uri": "https://localhost:8080/",
          "height": 195
        },
        "outputId": "6cd0310b-a94d-406c-b468-185d3ce8b9cb"
      },
      "source": [
        "for i in a1:\n",
        "  t1=[vocab[i] for i in np.argsort(i)][:-8:-1]\n",
        "  print(t1)\n"
      ],
      "execution_count": 40,
      "outputs": [
        {
          "output_type": "stream",
          "text": [
            "['ditto', 'critus', 'propagandist', 'surname', 'galacticentric', 'kindergarten', 'surreal']\n",
            "['jpeg', 'gif', 'file', 'color', 'quality', 'image', 'jfif']\n",
            "['graphics', 'edu', 'pub', 'mail', '128', '3d', 'ray']\n",
            "['jesus', 'god', 'matthew', 'people', 'atheists', 'atheism', 'does']\n",
            "['image', 'data', 'processing', 'analysis', 'software', 'available', 'tools']\n",
            "['god', 'atheists', 'atheism', 'religious', 'believe', 'religion', 'argument']\n",
            "['space', 'nasa', 'lunar', 'mars', 'probe', 'moon', 'missions']\n",
            "['image', 'probe', 'surface', 'lunar', 'mars', 'probes', 'moon']\n",
            "['argument', 'fallacy', 'conclusion', 'example', 'true', 'ad', 'argumentum']\n",
            "['space', 'larson', 'image', 'theory', 'universe', 'physical', 'nasa']\n"
          ],
          "name": "stdout"
        }
      ]
    },
    {
      "cell_type": "code",
      "metadata": {
        "id": "YavTUYQI20AW",
        "colab_type": "code",
        "colab": {
          "base_uri": "https://localhost:8080/",
          "height": 35
        },
        "outputId": "820edabf-ad95-4d5c-b1aa-b50ae36967cf"
      },
      "source": [
        "len(top_words)"
      ],
      "execution_count": 31,
      "outputs": [
        {
          "output_type": "execute_result",
          "data": {
            "text/plain": [
              "8"
            ]
          },
          "metadata": {
            "tags": []
          },
          "execution_count": 31
        }
      ]
    },
    {
      "cell_type": "code",
      "metadata": {
        "id": "Vb97IClp22dJ",
        "colab_type": "code",
        "colab": {}
      },
      "source": [
        ""
      ],
      "execution_count": null,
      "outputs": []
    },
    {
      "cell_type": "markdown",
      "metadata": {
        "id": "W9AVfFP59T-o",
        "colab_type": "text"
      },
      "source": [
        "# Truncated svd"
      ]
    },
    {
      "cell_type": "code",
      "metadata": {
        "id": "MUU3nuxV9WLx",
        "colab_type": "code",
        "colab": {
          "base_uri": "https://localhost:8080/",
          "height": 52
        },
        "outputId": "ba8c2ba1-a2de-4d5a-944b-5760a1392a92"
      },
      "source": [
        "time u, s, v = np.linalg.svd(vectors, full_matrices=False)\n"
      ],
      "execution_count": 41,
      "outputs": [
        {
          "output_type": "stream",
          "text": [
            "CPU times: user 1min 14s, sys: 3.63 s, total: 1min 18s\n",
            "Wall time: 40.3 s\n"
          ],
          "name": "stdout"
        }
      ]
    },
    {
      "cell_type": "code",
      "metadata": {
        "id": "VJlk_fP79cvd",
        "colab_type": "code",
        "colab": {
          "base_uri": "https://localhost:8080/",
          "height": 52
        },
        "outputId": "30c9a006-ab0c-4f5b-f259-738112099387"
      },
      "source": [
        "from sklearn import decomposition\n",
        "#import fbpca\n",
        "%time u, s, v = decomposition.randomized_svd(vectors, 10)\n"
      ],
      "execution_count": 43,
      "outputs": [
        {
          "output_type": "stream",
          "text": [
            "CPU times: user 11.5 s, sys: 1.52 s, total: 13 s\n",
            "Wall time: 9.16 s\n"
          ],
          "name": "stdout"
        }
      ]
    },
    {
      "cell_type": "code",
      "metadata": {
        "id": "4JTSw7gt95Bd",
        "colab_type": "code",
        "colab": {
          "base_uri": "https://localhost:8080/",
          "height": 35
        },
        "outputId": "5d5beb92-54bf-4cb7-a73b-13eb04af5828"
      },
      "source": [
        "print(u.shape,s.shape,v.shape)"
      ],
      "execution_count": 44,
      "outputs": [
        {
          "output_type": "stream",
          "text": [
            "(2034, 10) (10,) (10, 26576)\n"
          ],
          "name": "stdout"
        }
      ]
    },
    {
      "cell_type": "code",
      "metadata": {
        "id": "8FB_lDVi9kg4",
        "colab_type": "code",
        "colab": {}
      },
      "source": [
        "#Randomized SVD from Facebook's library fbpca:\n",
        "%time u, s, v = fbpca.pca(vectors, 10)"
      ],
      "execution_count": null,
      "outputs": []
    }
  ]
}