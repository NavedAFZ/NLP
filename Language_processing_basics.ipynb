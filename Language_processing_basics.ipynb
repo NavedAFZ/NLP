{
  "nbformat": 4,
  "nbformat_minor": 0,
  "metadata": {
    "colab": {
      "name": "Language_processing_basics.ipynb",
      "provenance": [],
      "authorship_tag": "ABX9TyNxLX/yS67Dv0zNWquuZ0z3",
      "include_colab_link": true
    },
    "kernelspec": {
      "name": "python3",
      "display_name": "Python 3"
    }
  },
  "cells": [
    {
      "cell_type": "markdown",
      "metadata": {
        "id": "view-in-github",
        "colab_type": "text"
      },
      "source": [
        "<a href=\"https://colab.research.google.com/github/NavedAFZ/NLP/blob/master/Language_processing_basics.ipynb\" target=\"_parent\"><img src=\"https://colab.research.google.com/assets/colab-badge.svg\" alt=\"Open In Colab\"/></a>"
      ]
    },
    {
      "cell_type": "code",
      "metadata": {
        "id": "tcoAU2BUdOgj",
        "colab_type": "code",
        "colab": {
          "base_uri": "https://localhost:8080/",
          "height": 301
        },
        "outputId": "bf46d39f-0b62-4d63-dfcc-17249e7277ea"
      },
      "source": [
        "!pip install TwitterSearch"
      ],
      "execution_count": 1,
      "outputs": [
        {
          "output_type": "stream",
          "text": [
            "Collecting TwitterSearch\n",
            "  Downloading https://files.pythonhosted.org/packages/52/77/3731f0d25c97ef1d1e5d034563f9e8ec2445946c1633b3813c22c7f363ee/TwitterSearch-1.0.2.tar.gz\n",
            "Requirement already satisfied: requests>=1.0.0 in /usr/local/lib/python3.6/dist-packages (from TwitterSearch) (2.23.0)\n",
            "Requirement already satisfied: requests-oauthlib>=0.3.0 in /usr/local/lib/python3.6/dist-packages (from TwitterSearch) (1.3.0)\n",
            "Requirement already satisfied: certifi>=2017.4.17 in /usr/local/lib/python3.6/dist-packages (from requests>=1.0.0->TwitterSearch) (2020.4.5.2)\n",
            "Requirement already satisfied: urllib3!=1.25.0,!=1.25.1,<1.26,>=1.21.1 in /usr/local/lib/python3.6/dist-packages (from requests>=1.0.0->TwitterSearch) (1.24.3)\n",
            "Requirement already satisfied: chardet<4,>=3.0.2 in /usr/local/lib/python3.6/dist-packages (from requests>=1.0.0->TwitterSearch) (3.0.4)\n",
            "Requirement already satisfied: idna<3,>=2.5 in /usr/local/lib/python3.6/dist-packages (from requests>=1.0.0->TwitterSearch) (2.9)\n",
            "Requirement already satisfied: oauthlib>=3.0.0 in /usr/local/lib/python3.6/dist-packages (from requests-oauthlib>=0.3.0->TwitterSearch) (3.1.0)\n",
            "Building wheels for collected packages: TwitterSearch\n",
            "  Building wheel for TwitterSearch (setup.py) ... \u001b[?25l\u001b[?25hdone\n",
            "  Created wheel for TwitterSearch: filename=TwitterSearch-1.0.2-cp36-none-any.whl size=18440 sha256=cc6d9fcea9e3f972cdd778dc2fd79cbdf7193d151b8376b40d1235b168812896\n",
            "  Stored in directory: /root/.cache/pip/wheels/4e/98/87/016442cb92cf56a0e262e7d68ad00b3701928e247d04955fdb\n",
            "Successfully built TwitterSearch\n",
            "Installing collected packages: TwitterSearch\n",
            "Successfully installed TwitterSearch-1.0.2\n"
          ],
          "name": "stdout"
        }
      ]
    },
    {
      "cell_type": "code",
      "metadata": {
        "id": "J8WBneD_dXpM",
        "colab_type": "code",
        "colab": {
          "base_uri": "https://localhost:8080/",
          "height": 106
        },
        "outputId": "1642eb6c-1686-4dac-b41a-727099f4a9f9"
      },
      "source": [
        "!pip install Unidecode\n"
      ],
      "execution_count": 2,
      "outputs": [
        {
          "output_type": "stream",
          "text": [
            "Collecting Unidecode\n",
            "\u001b[?25l  Downloading https://files.pythonhosted.org/packages/d0/42/d9edfed04228bacea2d824904cae367ee9efd05e6cce7ceaaedd0b0ad964/Unidecode-1.1.1-py2.py3-none-any.whl (238kB)\n",
            "\r\u001b[K     |█▍                              | 10kB 16.5MB/s eta 0:00:01\r\u001b[K     |██▊                             | 20kB 2.1MB/s eta 0:00:01\r\u001b[K     |████▏                           | 30kB 2.8MB/s eta 0:00:01\r\u001b[K     |█████▌                          | 40kB 3.0MB/s eta 0:00:01\r\u001b[K     |██████▉                         | 51kB 2.4MB/s eta 0:00:01\r\u001b[K     |████████▎                       | 61kB 2.7MB/s eta 0:00:01\r\u001b[K     |█████████▋                      | 71kB 3.0MB/s eta 0:00:01\r\u001b[K     |███████████                     | 81kB 3.2MB/s eta 0:00:01\r\u001b[K     |████████████▍                   | 92kB 3.5MB/s eta 0:00:01\r\u001b[K     |█████████████▊                  | 102kB 3.4MB/s eta 0:00:01\r\u001b[K     |███████████████▏                | 112kB 3.4MB/s eta 0:00:01\r\u001b[K     |████████████████▌               | 122kB 3.4MB/s eta 0:00:01\r\u001b[K     |█████████████████▉              | 133kB 3.4MB/s eta 0:00:01\r\u001b[K     |███████████████████▎            | 143kB 3.4MB/s eta 0:00:01\r\u001b[K     |████████████████████▋           | 153kB 3.4MB/s eta 0:00:01\r\u001b[K     |██████████████████████          | 163kB 3.4MB/s eta 0:00:01\r\u001b[K     |███████████████████████▍        | 174kB 3.4MB/s eta 0:00:01\r\u001b[K     |████████████████████████▊       | 184kB 3.4MB/s eta 0:00:01\r\u001b[K     |██████████████████████████▏     | 194kB 3.4MB/s eta 0:00:01\r\u001b[K     |███████████████████████████▌    | 204kB 3.4MB/s eta 0:00:01\r\u001b[K     |████████████████████████████▉   | 215kB 3.4MB/s eta 0:00:01\r\u001b[K     |██████████████████████████████▎ | 225kB 3.4MB/s eta 0:00:01\r\u001b[K     |███████████████████████████████▋| 235kB 3.4MB/s eta 0:00:01\r\u001b[K     |████████████████████████████████| 245kB 3.4MB/s \n",
            "\u001b[?25hInstalling collected packages: Unidecode\n",
            "Successfully installed Unidecode-1.1.1\n"
          ],
          "name": "stdout"
        }
      ]
    },
    {
      "cell_type": "code",
      "metadata": {
        "id": "Kyj_6zifdtzZ",
        "colab_type": "code",
        "colab": {
          "base_uri": "https://localhost:8080/",
          "height": 212
        },
        "outputId": "b04232a8-9dbb-4257-cbbc-f5677397864f"
      },
      "source": [
        "pip install langdetect"
      ],
      "execution_count": 3,
      "outputs": [
        {
          "output_type": "stream",
          "text": [
            "Collecting langdetect\n",
            "\u001b[?25l  Downloading https://files.pythonhosted.org/packages/56/a3/8407c1e62d5980188b4acc45ef3d94b933d14a2ebc9ef3505f22cf772570/langdetect-1.0.8.tar.gz (981kB)\n",
            "\r\u001b[K     |▍                               | 10kB 16.3MB/s eta 0:00:01\r\u001b[K     |▊                               | 20kB 2.1MB/s eta 0:00:01\r\u001b[K     |█                               | 30kB 2.6MB/s eta 0:00:01\r\u001b[K     |█▍                              | 40kB 2.9MB/s eta 0:00:01\r\u001b[K     |█▊                              | 51kB 2.3MB/s eta 0:00:01\r\u001b[K     |██                              | 61kB 2.6MB/s eta 0:00:01\r\u001b[K     |██▍                             | 71kB 2.9MB/s eta 0:00:01\r\u001b[K     |██▊                             | 81kB 3.1MB/s eta 0:00:01\r\u001b[K     |███                             | 92kB 3.3MB/s eta 0:00:01\r\u001b[K     |███▍                            | 102kB 3.2MB/s eta 0:00:01\r\u001b[K     |███▊                            | 112kB 3.2MB/s eta 0:00:01\r\u001b[K     |████                            | 122kB 3.2MB/s eta 0:00:01\r\u001b[K     |████▍                           | 133kB 3.2MB/s eta 0:00:01\r\u001b[K     |████▊                           | 143kB 3.2MB/s eta 0:00:01\r\u001b[K     |█████                           | 153kB 3.2MB/s eta 0:00:01\r\u001b[K     |█████▍                          | 163kB 3.2MB/s eta 0:00:01\r\u001b[K     |█████▊                          | 174kB 3.2MB/s eta 0:00:01\r\u001b[K     |██████                          | 184kB 3.2MB/s eta 0:00:01\r\u001b[K     |██████▍                         | 194kB 3.2MB/s eta 0:00:01\r\u001b[K     |██████▊                         | 204kB 3.2MB/s eta 0:00:01\r\u001b[K     |███████                         | 215kB 3.2MB/s eta 0:00:01\r\u001b[K     |███████▍                        | 225kB 3.2MB/s eta 0:00:01\r\u001b[K     |███████▊                        | 235kB 3.2MB/s eta 0:00:01\r\u001b[K     |████████                        | 245kB 3.2MB/s eta 0:00:01\r\u001b[K     |████████▍                       | 256kB 3.2MB/s eta 0:00:01\r\u001b[K     |████████▊                       | 266kB 3.2MB/s eta 0:00:01\r\u001b[K     |█████████                       | 276kB 3.2MB/s eta 0:00:01\r\u001b[K     |█████████▍                      | 286kB 3.2MB/s eta 0:00:01\r\u001b[K     |█████████▊                      | 296kB 3.2MB/s eta 0:00:01\r\u001b[K     |██████████                      | 307kB 3.2MB/s eta 0:00:01\r\u001b[K     |██████████▍                     | 317kB 3.2MB/s eta 0:00:01\r\u001b[K     |██████████▊                     | 327kB 3.2MB/s eta 0:00:01\r\u001b[K     |███████████                     | 337kB 3.2MB/s eta 0:00:01\r\u001b[K     |███████████▍                    | 348kB 3.2MB/s eta 0:00:01\r\u001b[K     |███████████▊                    | 358kB 3.2MB/s eta 0:00:01\r\u001b[K     |████████████                    | 368kB 3.2MB/s eta 0:00:01\r\u001b[K     |████████████▍                   | 378kB 3.2MB/s eta 0:00:01\r\u001b[K     |████████████▊                   | 389kB 3.2MB/s eta 0:00:01\r\u001b[K     |█████████████                   | 399kB 3.2MB/s eta 0:00:01\r\u001b[K     |█████████████▍                  | 409kB 3.2MB/s eta 0:00:01\r\u001b[K     |█████████████▊                  | 419kB 3.2MB/s eta 0:00:01\r\u001b[K     |██████████████                  | 430kB 3.2MB/s eta 0:00:01\r\u001b[K     |██████████████▍                 | 440kB 3.2MB/s eta 0:00:01\r\u001b[K     |██████████████▊                 | 450kB 3.2MB/s eta 0:00:01\r\u001b[K     |███████████████                 | 460kB 3.2MB/s eta 0:00:01\r\u001b[K     |███████████████▍                | 471kB 3.2MB/s eta 0:00:01\r\u001b[K     |███████████████▊                | 481kB 3.2MB/s eta 0:00:01\r\u001b[K     |████████████████                | 491kB 3.2MB/s eta 0:00:01\r\u001b[K     |████████████████▍               | 501kB 3.2MB/s eta 0:00:01\r\u001b[K     |████████████████▊               | 512kB 3.2MB/s eta 0:00:01\r\u001b[K     |█████████████████               | 522kB 3.2MB/s eta 0:00:01\r\u001b[K     |█████████████████▍              | 532kB 3.2MB/s eta 0:00:01\r\u001b[K     |█████████████████▊              | 542kB 3.2MB/s eta 0:00:01\r\u001b[K     |██████████████████              | 552kB 3.2MB/s eta 0:00:01\r\u001b[K     |██████████████████▍             | 563kB 3.2MB/s eta 0:00:01\r\u001b[K     |██████████████████▊             | 573kB 3.2MB/s eta 0:00:01\r\u001b[K     |███████████████████             | 583kB 3.2MB/s eta 0:00:01\r\u001b[K     |███████████████████▍            | 593kB 3.2MB/s eta 0:00:01\r\u001b[K     |███████████████████▊            | 604kB 3.2MB/s eta 0:00:01\r\u001b[K     |████████████████████            | 614kB 3.2MB/s eta 0:00:01\r\u001b[K     |████████████████████▍           | 624kB 3.2MB/s eta 0:00:01\r\u001b[K     |████████████████████▊           | 634kB 3.2MB/s eta 0:00:01\r\u001b[K     |█████████████████████           | 645kB 3.2MB/s eta 0:00:01\r\u001b[K     |█████████████████████▍          | 655kB 3.2MB/s eta 0:00:01\r\u001b[K     |█████████████████████▊          | 665kB 3.2MB/s eta 0:00:01\r\u001b[K     |██████████████████████          | 675kB 3.2MB/s eta 0:00:01\r\u001b[K     |██████████████████████▍         | 686kB 3.2MB/s eta 0:00:01\r\u001b[K     |██████████████████████▊         | 696kB 3.2MB/s eta 0:00:01\r\u001b[K     |███████████████████████         | 706kB 3.2MB/s eta 0:00:01\r\u001b[K     |███████████████████████▍        | 716kB 3.2MB/s eta 0:00:01\r\u001b[K     |███████████████████████▊        | 727kB 3.2MB/s eta 0:00:01\r\u001b[K     |████████████████████████        | 737kB 3.2MB/s eta 0:00:01\r\u001b[K     |████████████████████████▍       | 747kB 3.2MB/s eta 0:00:01\r\u001b[K     |████████████████████████▊       | 757kB 3.2MB/s eta 0:00:01\r\u001b[K     |█████████████████████████       | 768kB 3.2MB/s eta 0:00:01\r\u001b[K     |█████████████████████████▍      | 778kB 3.2MB/s eta 0:00:01\r\u001b[K     |█████████████████████████▊      | 788kB 3.2MB/s eta 0:00:01\r\u001b[K     |██████████████████████████      | 798kB 3.2MB/s eta 0:00:01\r\u001b[K     |██████████████████████████▍     | 808kB 3.2MB/s eta 0:00:01\r\u001b[K     |██████████████████████████▊     | 819kB 3.2MB/s eta 0:00:01\r\u001b[K     |███████████████████████████     | 829kB 3.2MB/s eta 0:00:01\r\u001b[K     |███████████████████████████▍    | 839kB 3.2MB/s eta 0:00:01\r\u001b[K     |███████████████████████████▊    | 849kB 3.2MB/s eta 0:00:01\r\u001b[K     |████████████████████████████    | 860kB 3.2MB/s eta 0:00:01\r\u001b[K     |████████████████████████████▍   | 870kB 3.2MB/s eta 0:00:01\r\u001b[K     |████████████████████████████▊   | 880kB 3.2MB/s eta 0:00:01\r\u001b[K     |█████████████████████████████   | 890kB 3.2MB/s eta 0:00:01\r\u001b[K     |█████████████████████████████▍  | 901kB 3.2MB/s eta 0:00:01\r\u001b[K     |█████████████████████████████▊  | 911kB 3.2MB/s eta 0:00:01\r\u001b[K     |██████████████████████████████  | 921kB 3.2MB/s eta 0:00:01\r\u001b[K     |██████████████████████████████▍ | 931kB 3.2MB/s eta 0:00:01\r\u001b[K     |██████████████████████████████▊ | 942kB 3.2MB/s eta 0:00:01\r\u001b[K     |███████████████████████████████ | 952kB 3.2MB/s eta 0:00:01\r\u001b[K     |███████████████████████████████▍| 962kB 3.2MB/s eta 0:00:01\r\u001b[K     |███████████████████████████████▊| 972kB 3.2MB/s eta 0:00:01\r\u001b[K     |████████████████████████████████| 983kB 3.2MB/s \n",
            "\u001b[?25hRequirement already satisfied: six in /usr/local/lib/python3.6/dist-packages (from langdetect) (1.12.0)\n",
            "Building wheels for collected packages: langdetect\n",
            "  Building wheel for langdetect (setup.py) ... \u001b[?25l\u001b[?25hdone\n",
            "  Created wheel for langdetect: filename=langdetect-1.0.8-cp36-none-any.whl size=993193 sha256=d3d6de35d55f4800f3ccb2566b1578e5350591f4240b1591ebd84d9277260a3d\n",
            "  Stored in directory: /root/.cache/pip/wheels/8d/b3/aa/6d99de9f3841d7d3d40a60ea06e6d669e8e5012e6c8b947a57\n",
            "Successfully built langdetect\n",
            "Installing collected packages: langdetect\n",
            "Successfully installed langdetect-1.0.8\n"
          ],
          "name": "stdout"
        }
      ]
    },
    {
      "cell_type": "code",
      "metadata": {
        "id": "OYtIridVdxIy",
        "colab_type": "code",
        "colab": {
          "base_uri": "https://localhost:8080/",
          "height": 212
        },
        "outputId": "8e924618-0811-4c4a-e23c-2f0f9c73be72"
      },
      "source": [
        "!pip install langid"
      ],
      "execution_count": 4,
      "outputs": [
        {
          "output_type": "stream",
          "text": [
            "Collecting langid\n",
            "\u001b[?25l  Downloading https://files.pythonhosted.org/packages/ea/4c/0fb7d900d3b0b9c8703be316fbddffecdab23c64e1b46c7a83561d78bd43/langid-1.1.6.tar.gz (1.9MB)\n",
            "\r\u001b[K     |▏                               | 10kB 16.9MB/s eta 0:00:01\r\u001b[K     |▍                               | 20kB 2.2MB/s eta 0:00:01\r\u001b[K     |▌                               | 30kB 2.8MB/s eta 0:00:01\r\u001b[K     |▊                               | 40kB 3.1MB/s eta 0:00:01\r\u001b[K     |▉                               | 51kB 2.4MB/s eta 0:00:01\r\u001b[K     |█                               | 61kB 2.8MB/s eta 0:00:01\r\u001b[K     |█▏                              | 71kB 3.0MB/s eta 0:00:01\r\u001b[K     |█▍                              | 81kB 3.3MB/s eta 0:00:01\r\u001b[K     |█▌                              | 92kB 3.5MB/s eta 0:00:01\r\u001b[K     |█▊                              | 102kB 3.4MB/s eta 0:00:01\r\u001b[K     |█▉                              | 112kB 3.4MB/s eta 0:00:01\r\u001b[K     |██                              | 122kB 3.4MB/s eta 0:00:01\r\u001b[K     |██▏                             | 133kB 3.4MB/s eta 0:00:01\r\u001b[K     |██▍                             | 143kB 3.4MB/s eta 0:00:01\r\u001b[K     |██▌                             | 153kB 3.4MB/s eta 0:00:01\r\u001b[K     |██▊                             | 163kB 3.4MB/s eta 0:00:01\r\u001b[K     |███                             | 174kB 3.4MB/s eta 0:00:01\r\u001b[K     |███                             | 184kB 3.4MB/s eta 0:00:01\r\u001b[K     |███▎                            | 194kB 3.4MB/s eta 0:00:01\r\u001b[K     |███▍                            | 204kB 3.4MB/s eta 0:00:01\r\u001b[K     |███▋                            | 215kB 3.4MB/s eta 0:00:01\r\u001b[K     |███▊                            | 225kB 3.4MB/s eta 0:00:01\r\u001b[K     |████                            | 235kB 3.4MB/s eta 0:00:01\r\u001b[K     |████                            | 245kB 3.4MB/s eta 0:00:01\r\u001b[K     |████▎                           | 256kB 3.4MB/s eta 0:00:01\r\u001b[K     |████▍                           | 266kB 3.4MB/s eta 0:00:01\r\u001b[K     |████▋                           | 276kB 3.4MB/s eta 0:00:01\r\u001b[K     |████▊                           | 286kB 3.4MB/s eta 0:00:01\r\u001b[K     |█████                           | 296kB 3.4MB/s eta 0:00:01\r\u001b[K     |█████                           | 307kB 3.4MB/s eta 0:00:01\r\u001b[K     |█████▎                          | 317kB 3.4MB/s eta 0:00:01\r\u001b[K     |█████▍                          | 327kB 3.4MB/s eta 0:00:01\r\u001b[K     |█████▋                          | 337kB 3.4MB/s eta 0:00:01\r\u001b[K     |█████▉                          | 348kB 3.4MB/s eta 0:00:01\r\u001b[K     |██████                          | 358kB 3.4MB/s eta 0:00:01\r\u001b[K     |██████▏                         | 368kB 3.4MB/s eta 0:00:01\r\u001b[K     |██████▎                         | 378kB 3.4MB/s eta 0:00:01\r\u001b[K     |██████▌                         | 389kB 3.4MB/s eta 0:00:01\r\u001b[K     |██████▋                         | 399kB 3.4MB/s eta 0:00:01\r\u001b[K     |██████▉                         | 409kB 3.4MB/s eta 0:00:01\r\u001b[K     |███████                         | 419kB 3.4MB/s eta 0:00:01\r\u001b[K     |███████▏                        | 430kB 3.4MB/s eta 0:00:01\r\u001b[K     |███████▎                        | 440kB 3.4MB/s eta 0:00:01\r\u001b[K     |███████▌                        | 450kB 3.4MB/s eta 0:00:01\r\u001b[K     |███████▋                        | 460kB 3.4MB/s eta 0:00:01\r\u001b[K     |███████▉                        | 471kB 3.4MB/s eta 0:00:01\r\u001b[K     |████████                        | 481kB 3.4MB/s eta 0:00:01\r\u001b[K     |████████▏                       | 491kB 3.4MB/s eta 0:00:01\r\u001b[K     |████████▍                       | 501kB 3.4MB/s eta 0:00:01\r\u001b[K     |████████▌                       | 512kB 3.4MB/s eta 0:00:01\r\u001b[K     |████████▊                       | 522kB 3.4MB/s eta 0:00:01\r\u001b[K     |████████▉                       | 532kB 3.4MB/s eta 0:00:01\r\u001b[K     |█████████                       | 542kB 3.4MB/s eta 0:00:01\r\u001b[K     |█████████▏                      | 552kB 3.4MB/s eta 0:00:01\r\u001b[K     |█████████▍                      | 563kB 3.4MB/s eta 0:00:01\r\u001b[K     |█████████▌                      | 573kB 3.4MB/s eta 0:00:01\r\u001b[K     |█████████▊                      | 583kB 3.4MB/s eta 0:00:01\r\u001b[K     |█████████▉                      | 593kB 3.4MB/s eta 0:00:01\r\u001b[K     |██████████                      | 604kB 3.4MB/s eta 0:00:01\r\u001b[K     |██████████▏                     | 614kB 3.4MB/s eta 0:00:01\r\u001b[K     |██████████▍                     | 624kB 3.4MB/s eta 0:00:01\r\u001b[K     |██████████▌                     | 634kB 3.4MB/s eta 0:00:01\r\u001b[K     |██████████▊                     | 645kB 3.4MB/s eta 0:00:01\r\u001b[K     |██████████▉                     | 655kB 3.4MB/s eta 0:00:01\r\u001b[K     |███████████                     | 665kB 3.4MB/s eta 0:00:01\r\u001b[K     |███████████▎                    | 675kB 3.4MB/s eta 0:00:01\r\u001b[K     |███████████▍                    | 686kB 3.4MB/s eta 0:00:01\r\u001b[K     |███████████▋                    | 696kB 3.4MB/s eta 0:00:01\r\u001b[K     |███████████▊                    | 706kB 3.4MB/s eta 0:00:01\r\u001b[K     |████████████                    | 716kB 3.4MB/s eta 0:00:01\r\u001b[K     |████████████                    | 727kB 3.4MB/s eta 0:00:01\r\u001b[K     |████████████▎                   | 737kB 3.4MB/s eta 0:00:01\r\u001b[K     |████████████▍                   | 747kB 3.4MB/s eta 0:00:01\r\u001b[K     |████████████▋                   | 757kB 3.4MB/s eta 0:00:01\r\u001b[K     |████████████▊                   | 768kB 3.4MB/s eta 0:00:01\r\u001b[K     |█████████████                   | 778kB 3.4MB/s eta 0:00:01\r\u001b[K     |█████████████                   | 788kB 3.4MB/s eta 0:00:01\r\u001b[K     |█████████████▎                  | 798kB 3.4MB/s eta 0:00:01\r\u001b[K     |█████████████▍                  | 808kB 3.4MB/s eta 0:00:01\r\u001b[K     |█████████████▋                  | 819kB 3.4MB/s eta 0:00:01\r\u001b[K     |█████████████▉                  | 829kB 3.4MB/s eta 0:00:01\r\u001b[K     |██████████████                  | 839kB 3.4MB/s eta 0:00:01\r\u001b[K     |██████████████▏                 | 849kB 3.4MB/s eta 0:00:01\r\u001b[K     |██████████████▎                 | 860kB 3.4MB/s eta 0:00:01\r\u001b[K     |██████████████▌                 | 870kB 3.4MB/s eta 0:00:01\r\u001b[K     |██████████████▋                 | 880kB 3.4MB/s eta 0:00:01\r\u001b[K     |██████████████▉                 | 890kB 3.4MB/s eta 0:00:01\r\u001b[K     |███████████████                 | 901kB 3.4MB/s eta 0:00:01\r\u001b[K     |███████████████▏                | 911kB 3.4MB/s eta 0:00:01\r\u001b[K     |███████████████▎                | 921kB 3.4MB/s eta 0:00:01\r\u001b[K     |███████████████▌                | 931kB 3.4MB/s eta 0:00:01\r\u001b[K     |███████████████▋                | 942kB 3.4MB/s eta 0:00:01\r\u001b[K     |███████████████▉                | 952kB 3.4MB/s eta 0:00:01\r\u001b[K     |████████████████                | 962kB 3.4MB/s eta 0:00:01\r\u001b[K     |████████████████▏               | 972kB 3.4MB/s eta 0:00:01\r\u001b[K     |████████████████▎               | 983kB 3.4MB/s eta 0:00:01\r\u001b[K     |████████████████▌               | 993kB 3.4MB/s eta 0:00:01\r\u001b[K     |████████████████▊               | 1.0MB 3.4MB/s eta 0:00:01\r\u001b[K     |████████████████▉               | 1.0MB 3.4MB/s eta 0:00:01\r\u001b[K     |█████████████████               | 1.0MB 3.4MB/s eta 0:00:01\r\u001b[K     |█████████████████▏              | 1.0MB 3.4MB/s eta 0:00:01\r\u001b[K     |█████████████████▍              | 1.0MB 3.4MB/s eta 0:00:01\r\u001b[K     |█████████████████▌              | 1.1MB 3.4MB/s eta 0:00:01\r\u001b[K     |█████████████████▊              | 1.1MB 3.4MB/s eta 0:00:01\r\u001b[K     |█████████████████▉              | 1.1MB 3.4MB/s eta 0:00:01\r\u001b[K     |██████████████████              | 1.1MB 3.4MB/s eta 0:00:01\r\u001b[K     |██████████████████▏             | 1.1MB 3.4MB/s eta 0:00:01\r\u001b[K     |██████████████████▍             | 1.1MB 3.4MB/s eta 0:00:01\r\u001b[K     |██████████████████▌             | 1.1MB 3.4MB/s eta 0:00:01\r\u001b[K     |██████████████████▊             | 1.1MB 3.4MB/s eta 0:00:01\r\u001b[K     |██████████████████▉             | 1.1MB 3.4MB/s eta 0:00:01\r\u001b[K     |███████████████████             | 1.1MB 3.4MB/s eta 0:00:01\r\u001b[K     |███████████████████▎            | 1.2MB 3.4MB/s eta 0:00:01\r\u001b[K     |███████████████████▍            | 1.2MB 3.4MB/s eta 0:00:01\r\u001b[K     |███████████████████▋            | 1.2MB 3.4MB/s eta 0:00:01\r\u001b[K     |███████████████████▊            | 1.2MB 3.4MB/s eta 0:00:01\r\u001b[K     |████████████████████            | 1.2MB 3.4MB/s eta 0:00:01\r\u001b[K     |████████████████████            | 1.2MB 3.4MB/s eta 0:00:01\r\u001b[K     |████████████████████▎           | 1.2MB 3.4MB/s eta 0:00:01\r\u001b[K     |████████████████████▍           | 1.2MB 3.4MB/s eta 0:00:01\r\u001b[K     |████████████████████▋           | 1.2MB 3.4MB/s eta 0:00:01\r\u001b[K     |████████████████████▊           | 1.2MB 3.4MB/s eta 0:00:01\r\u001b[K     |█████████████████████           | 1.3MB 3.4MB/s eta 0:00:01\r\u001b[K     |█████████████████████           | 1.3MB 3.4MB/s eta 0:00:01\r\u001b[K     |█████████████████████▎          | 1.3MB 3.4MB/s eta 0:00:01\r\u001b[K     |█████████████████████▍          | 1.3MB 3.4MB/s eta 0:00:01\r\u001b[K     |█████████████████████▋          | 1.3MB 3.4MB/s eta 0:00:01\r\u001b[K     |█████████████████████▊          | 1.3MB 3.4MB/s eta 0:00:01\r\u001b[K     |██████████████████████          | 1.3MB 3.4MB/s eta 0:00:01\r\u001b[K     |██████████████████████▏         | 1.3MB 3.4MB/s eta 0:00:01\r\u001b[K     |██████████████████████▎         | 1.3MB 3.4MB/s eta 0:00:01\r\u001b[K     |██████████████████████▌         | 1.4MB 3.4MB/s eta 0:00:01\r\u001b[K     |██████████████████████▋         | 1.4MB 3.4MB/s eta 0:00:01\r\u001b[K     |██████████████████████▉         | 1.4MB 3.4MB/s eta 0:00:01\r\u001b[K     |███████████████████████         | 1.4MB 3.4MB/s eta 0:00:01\r\u001b[K     |███████████████████████▏        | 1.4MB 3.4MB/s eta 0:00:01\r\u001b[K     |███████████████████████▎        | 1.4MB 3.4MB/s eta 0:00:01\r\u001b[K     |███████████████████████▌        | 1.4MB 3.4MB/s eta 0:00:01\r\u001b[K     |███████████████████████▋        | 1.4MB 3.4MB/s eta 0:00:01\r\u001b[K     |███████████████████████▉        | 1.4MB 3.4MB/s eta 0:00:01\r\u001b[K     |████████████████████████        | 1.4MB 3.4MB/s eta 0:00:01\r\u001b[K     |████████████████████████▏       | 1.5MB 3.4MB/s eta 0:00:01\r\u001b[K     |████████████████████████▎       | 1.5MB 3.4MB/s eta 0:00:01\r\u001b[K     |████████████████████████▌       | 1.5MB 3.4MB/s eta 0:00:01\r\u001b[K     |████████████████████████▊       | 1.5MB 3.4MB/s eta 0:00:01\r\u001b[K     |████████████████████████▉       | 1.5MB 3.4MB/s eta 0:00:01\r\u001b[K     |█████████████████████████       | 1.5MB 3.4MB/s eta 0:00:01\r\u001b[K     |█████████████████████████▏      | 1.5MB 3.4MB/s eta 0:00:01\r\u001b[K     |█████████████████████████▍      | 1.5MB 3.4MB/s eta 0:00:01\r\u001b[K     |█████████████████████████▌      | 1.5MB 3.4MB/s eta 0:00:01\r\u001b[K     |█████████████████████████▊      | 1.5MB 3.4MB/s eta 0:00:01\r\u001b[K     |█████████████████████████▉      | 1.6MB 3.4MB/s eta 0:00:01\r\u001b[K     |██████████████████████████      | 1.6MB 3.4MB/s eta 0:00:01\r\u001b[K     |██████████████████████████▏     | 1.6MB 3.4MB/s eta 0:00:01\r\u001b[K     |██████████████████████████▍     | 1.6MB 3.4MB/s eta 0:00:01\r\u001b[K     |██████████████████████████▌     | 1.6MB 3.4MB/s eta 0:00:01\r\u001b[K     |██████████████████████████▊     | 1.6MB 3.4MB/s eta 0:00:01\r\u001b[K     |██████████████████████████▉     | 1.6MB 3.4MB/s eta 0:00:01\r\u001b[K     |███████████████████████████     | 1.6MB 3.4MB/s eta 0:00:01\r\u001b[K     |███████████████████████████▏    | 1.6MB 3.4MB/s eta 0:00:01\r\u001b[K     |███████████████████████████▍    | 1.6MB 3.4MB/s eta 0:00:01\r\u001b[K     |███████████████████████████▋    | 1.7MB 3.4MB/s eta 0:00:01\r\u001b[K     |███████████████████████████▊    | 1.7MB 3.4MB/s eta 0:00:01\r\u001b[K     |████████████████████████████    | 1.7MB 3.4MB/s eta 0:00:01\r\u001b[K     |████████████████████████████    | 1.7MB 3.4MB/s eta 0:00:01\r\u001b[K     |████████████████████████████▎   | 1.7MB 3.4MB/s eta 0:00:01\r\u001b[K     |████████████████████████████▍   | 1.7MB 3.4MB/s eta 0:00:01\r\u001b[K     |████████████████████████████▋   | 1.7MB 3.4MB/s eta 0:00:01\r\u001b[K     |████████████████████████████▊   | 1.7MB 3.4MB/s eta 0:00:01\r\u001b[K     |█████████████████████████████   | 1.7MB 3.4MB/s eta 0:00:01\r\u001b[K     |█████████████████████████████   | 1.8MB 3.4MB/s eta 0:00:01\r\u001b[K     |█████████████████████████████▎  | 1.8MB 3.4MB/s eta 0:00:01\r\u001b[K     |█████████████████████████████▍  | 1.8MB 3.4MB/s eta 0:00:01\r\u001b[K     |█████████████████████████████▋  | 1.8MB 3.4MB/s eta 0:00:01\r\u001b[K     |█████████████████████████████▊  | 1.8MB 3.4MB/s eta 0:00:01\r\u001b[K     |██████████████████████████████  | 1.8MB 3.4MB/s eta 0:00:01\r\u001b[K     |██████████████████████████████▏ | 1.8MB 3.4MB/s eta 0:00:01\r\u001b[K     |██████████████████████████████▎ | 1.8MB 3.4MB/s eta 0:00:01\r\u001b[K     |██████████████████████████████▌ | 1.8MB 3.4MB/s eta 0:00:01\r\u001b[K     |██████████████████████████████▋ | 1.8MB 3.4MB/s eta 0:00:01\r\u001b[K     |██████████████████████████████▉ | 1.9MB 3.4MB/s eta 0:00:01\r\u001b[K     |███████████████████████████████ | 1.9MB 3.4MB/s eta 0:00:01\r\u001b[K     |███████████████████████████████▏| 1.9MB 3.4MB/s eta 0:00:01\r\u001b[K     |███████████████████████████████▎| 1.9MB 3.4MB/s eta 0:00:01\r\u001b[K     |███████████████████████████████▌| 1.9MB 3.4MB/s eta 0:00:01\r\u001b[K     |███████████████████████████████▋| 1.9MB 3.4MB/s eta 0:00:01\r\u001b[K     |███████████████████████████████▉| 1.9MB 3.4MB/s eta 0:00:01\r\u001b[K     |████████████████████████████████| 1.9MB 3.4MB/s eta 0:00:01\r\u001b[K     |████████████████████████████████| 1.9MB 3.4MB/s \n",
            "\u001b[?25hRequirement already satisfied: numpy in /usr/local/lib/python3.6/dist-packages (from langid) (1.18.5)\n",
            "Building wheels for collected packages: langid\n",
            "  Building wheel for langid (setup.py) ... \u001b[?25l\u001b[?25hdone\n",
            "  Created wheel for langid: filename=langid-1.1.6-cp36-none-any.whl size=1941190 sha256=4de80d91e2c383ea696f1d29265986cdd3187fee76479a3052d45ed950596308\n",
            "  Stored in directory: /root/.cache/pip/wheels/29/bc/61/50a93be85d1afe9436c3dc61f38da8ad7b637a38af4824e86e\n",
            "Successfully built langid\n",
            "Installing collected packages: langid\n",
            "Successfully installed langid-1.1.6\n"
          ],
          "name": "stdout"
        }
      ]
    },
    {
      "cell_type": "code",
      "metadata": {
        "id": "j_wn9jVOdk2W",
        "colab_type": "code",
        "colab": {}
      },
      "source": [
        "import nltk # https://www.nltk.org/install.html\n",
        "import numpy # https://www.scipy.org/install.html\n",
        "import matplotlib.pyplot # https://matplotlib.org/downloads.html\n",
        "import tweepy # https://github.com/tweepy/tweepy\n",
        "import TwitterSearch # https://github.com/ckoepp/TwitterSearch\n",
        "import unidecode # https://pypi.python.org/pypi/Unidecode\n",
        "import langdetect # https://pypi.python.org/pypi/langdetect\n",
        "import langid # https://github.com/saffsd/langid.py\n",
        "import gensim # https://radimrehurek.com/gensim/install.html"
      ],
      "execution_count": 5,
      "outputs": []
    },
    {
      "cell_type": "code",
      "metadata": {
        "id": "30W3yI9AfJhk",
        "colab_type": "code",
        "colab": {
          "base_uri": "https://localhost:8080/",
          "height": 70
        },
        "outputId": "dc07646a-0dbf-4fae-9953-593c47e45254"
      },
      "source": [
        "nltk.download('punkt')"
      ],
      "execution_count": 6,
      "outputs": [
        {
          "output_type": "stream",
          "text": [
            "[nltk_data] Downloading package punkt to /root/nltk_data...\n",
            "[nltk_data]   Unzipping tokenizers/punkt.zip.\n"
          ],
          "name": "stdout"
        },
        {
          "output_type": "execute_result",
          "data": {
            "text/plain": [
              "True"
            ]
          },
          "metadata": {
            "tags": []
          },
          "execution_count": 6
        }
      ]
    },
    {
      "cell_type": "markdown",
      "metadata": {
        "id": "WYSG6u5Peuml",
        "colab_type": "text"
      },
      "source": [
        "#Text Analysis Using nltk.text"
      ]
    },
    {
      "cell_type": "code",
      "metadata": {
        "id": "V67OlZj1eE9m",
        "colab_type": "code",
        "colab": {}
      },
      "source": [
        "from nltk.tokenize import word_tokenize\n",
        "from nltk.text import Text\n"
      ],
      "execution_count": 7,
      "outputs": []
    },
    {
      "cell_type": "code",
      "metadata": {
        "id": "3hCEffoMe049",
        "colab_type": "code",
        "colab": {
          "base_uri": "https://localhost:8080/",
          "height": 35
        },
        "outputId": "02b78539-fa53-4c82-ecd4-9461d3d1f339"
      },
      "source": [
        "my_string = \"Two  plus two is four, minus one that's three — quick maths. Every day man's on the block. Smoke trees. See your girl in the park, that girl is an uckers. When the thing went quack quack quack, your men were ducking! Hold tight Asznee, my brother. He's got a pumpy. Hold tight my man, my guy. He's got a frisbee. I trap, trap, trap on the phone. Moving that cornflakes, rice crispies. Hold tight my girl Whitney.\"\n",
        "tokens = word_tokenize(my_string)\n",
        "tokens = [word.lower() for word in tokens]\n",
        "tokens[:5]"
      ],
      "execution_count": 8,
      "outputs": [
        {
          "output_type": "execute_result",
          "data": {
            "text/plain": [
              "['two', 'plus', 'two', 'is', 'four']"
            ]
          },
          "metadata": {
            "tags": []
          },
          "execution_count": 8
        }
      ]
    },
    {
      "cell_type": "code",
      "metadata": {
        "id": "JFVBGjbwe-Ce",
        "colab_type": "code",
        "colab": {
          "base_uri": "https://localhost:8080/",
          "height": 1000
        },
        "outputId": "d2a5dd72-328d-4e20-a30a-d5c44ec1724b"
      },
      "source": [
        "tokens\n"
      ],
      "execution_count": 9,
      "outputs": [
        {
          "output_type": "execute_result",
          "data": {
            "text/plain": [
              "['two',\n",
              " 'plus',\n",
              " 'two',\n",
              " 'is',\n",
              " 'four',\n",
              " ',',\n",
              " 'minus',\n",
              " 'one',\n",
              " 'that',\n",
              " \"'s\",\n",
              " 'three',\n",
              " '—',\n",
              " 'quick',\n",
              " 'maths',\n",
              " '.',\n",
              " 'every',\n",
              " 'day',\n",
              " 'man',\n",
              " \"'s\",\n",
              " 'on',\n",
              " 'the',\n",
              " 'block',\n",
              " '.',\n",
              " 'smoke',\n",
              " 'trees',\n",
              " '.',\n",
              " 'see',\n",
              " 'your',\n",
              " 'girl',\n",
              " 'in',\n",
              " 'the',\n",
              " 'park',\n",
              " ',',\n",
              " 'that',\n",
              " 'girl',\n",
              " 'is',\n",
              " 'an',\n",
              " 'uckers',\n",
              " '.',\n",
              " 'when',\n",
              " 'the',\n",
              " 'thing',\n",
              " 'went',\n",
              " 'quack',\n",
              " 'quack',\n",
              " 'quack',\n",
              " ',',\n",
              " 'your',\n",
              " 'men',\n",
              " 'were',\n",
              " 'ducking',\n",
              " '!',\n",
              " 'hold',\n",
              " 'tight',\n",
              " 'asznee',\n",
              " ',',\n",
              " 'my',\n",
              " 'brother',\n",
              " '.',\n",
              " 'he',\n",
              " \"'s\",\n",
              " 'got',\n",
              " 'a',\n",
              " 'pumpy',\n",
              " '.',\n",
              " 'hold',\n",
              " 'tight',\n",
              " 'my',\n",
              " 'man',\n",
              " ',',\n",
              " 'my',\n",
              " 'guy',\n",
              " '.',\n",
              " 'he',\n",
              " \"'s\",\n",
              " 'got',\n",
              " 'a',\n",
              " 'frisbee',\n",
              " '.',\n",
              " 'i',\n",
              " 'trap',\n",
              " ',',\n",
              " 'trap',\n",
              " ',',\n",
              " 'trap',\n",
              " 'on',\n",
              " 'the',\n",
              " 'phone',\n",
              " '.',\n",
              " 'moving',\n",
              " 'that',\n",
              " 'cornflakes',\n",
              " ',',\n",
              " 'rice',\n",
              " 'crispies',\n",
              " '.',\n",
              " 'hold',\n",
              " 'tight',\n",
              " 'my',\n",
              " 'girl',\n",
              " 'whitney',\n",
              " '.']"
            ]
          },
          "metadata": {
            "tags": []
          },
          "execution_count": 9
        }
      ]
    },
    {
      "cell_type": "code",
      "metadata": {
        "id": "XuL85YDbfwRj",
        "colab_type": "code",
        "colab": {
          "base_uri": "https://localhost:8080/",
          "height": 35
        },
        "outputId": "449203e0-0534-40ef-ea96-751adff1cd83"
      },
      "source": [
        "t = Text(tokens)\n",
        "t"
      ],
      "execution_count": 10,
      "outputs": [
        {
          "output_type": "execute_result",
          "data": {
            "text/plain": [
              "<Text: two plus two is four , minus one...>"
            ]
          },
          "metadata": {
            "tags": []
          },
          "execution_count": 10
        }
      ]
    },
    {
      "cell_type": "code",
      "metadata": {
        "id": "AzynhKn4gEle",
        "colab_type": "code",
        "colab": {
          "base_uri": "https://localhost:8080/",
          "height": 70
        },
        "outputId": "bb886886-ae26-480a-e75e-a94dcb3bff3b"
      },
      "source": [
        "t.concordance(\"man\")"
      ],
      "execution_count": 11,
      "outputs": [
        {
          "output_type": "stream",
          "text": [
            "Displaying 2 of 2 matches:\n",
            "                                      man 's on the block . smoke trees . see y\n",
            "r . he 's got a pumpy . hold tight my man , my guy . he 's got a frisbee . i tr\n"
          ],
          "name": "stdout"
        }
      ]
    },
    {
      "cell_type": "code",
      "metadata": {
        "id": "oabn5BjMgfdY",
        "colab_type": "code",
        "colab": {
          "base_uri": "https://localhost:8080/",
          "height": 35
        },
        "outputId": "fe4a8622-2a24-480d-c2ce-2d7814891b20"
      },
      "source": [
        "t.count('man')\n",
        "#t.index('two')\n",
        "#t.similar('brother') # similar(self, word, num=20). Distributional similarity: find other words which appear in the same contexts as the specified word; list most similar words first.\n"
      ],
      "execution_count": 12,
      "outputs": [
        {
          "output_type": "execute_result",
          "data": {
            "text/plain": [
              "2"
            ]
          },
          "metadata": {
            "tags": []
          },
          "execution_count": 12
        }
      ]
    },
    {
      "cell_type": "code",
      "metadata": {
        "id": "b4jT7hYoS_lh",
        "colab_type": "code",
        "colab": {
          "base_uri": "https://localhost:8080/",
          "height": 295
        },
        "outputId": "852f2094-80e6-4ddf-a9a3-3b81a58a6824"
      },
      "source": [
        "t.dispersion_plot(['man', 'thing', 'quack']) # Reveals patterns in word positions. Each stripe represents an instance of a word, and each row represents the entire text.\n",
        "#t.plot(20) # plots 20 most common tokens\n"
      ],
      "execution_count": 13,
      "outputs": [
        {
          "output_type": "display_data",
          "data": {
            "image/png": "[encoded data removed]",
            "text/plain": [
              "<Figure size 432x288 with 1 Axes>"
            ]
          },
          "metadata": {
            "tags": [],
            "needs_background": "light"
          }
        }
      ]
    },
    {
      "cell_type": "code",
      "metadata": {
        "id": "3s2qLWUwTUvo",
        "colab_type": "code",
        "colab": {
          "base_uri": "https://localhost:8080/",
          "height": 299
        },
        "outputId": "386f09c4-e98b-48b4-a5a7-99407a2e388d"
      },
      "source": [
        "t.plot(20) # plots 20 most common tokens\n"
      ],
      "execution_count": 14,
      "outputs": [
        {
          "output_type": "display_data",
          "data": {
            "image/png": "[encoded data removed]",
            "text/plain": [
              "<Figure size 432x288 with 1 Axes>"
            ]
          },
          "metadata": {
            "tags": [],
            "needs_background": "light"
          }
        }
      ]
    },
    {
      "cell_type": "code",
      "metadata": {
        "id": "iatWQQepTlZN",
        "colab_type": "code",
        "colab": {
          "base_uri": "https://localhost:8080/",
          "height": 1000
        },
        "outputId": "482dc3b3-3af4-4485-d51b-f91e50918ac4"
      },
      "source": [
        "t.vocab()"
      ],
      "execution_count": 15,
      "outputs": [
        {
          "output_type": "execute_result",
          "data": {
            "text/plain": [
              "FreqDist({'!': 1,\n",
              "          \"'s\": 4,\n",
              "          ',': 8,\n",
              "          '.': 11,\n",
              "          'a': 2,\n",
              "          'an': 1,\n",
              "          'asznee': 1,\n",
              "          'block': 1,\n",
              "          'brother': 1,\n",
              "          'cornflakes': 1,\n",
              "          'crispies': 1,\n",
              "          'day': 1,\n",
              "          'ducking': 1,\n",
              "          'every': 1,\n",
              "          'four': 1,\n",
              "          'frisbee': 1,\n",
              "          'girl': 3,\n",
              "          'got': 2,\n",
              "          'guy': 1,\n",
              "          'he': 2,\n",
              "          'hold': 3,\n",
              "          'i': 1,\n",
              "          'in': 1,\n",
              "          'is': 2,\n",
              "          'man': 2,\n",
              "          'maths': 1,\n",
              "          'men': 1,\n",
              "          'minus': 1,\n",
              "          'moving': 1,\n",
              "          'my': 4,\n",
              "          'on': 2,\n",
              "          'one': 1,\n",
              "          'park': 1,\n",
              "          'phone': 1,\n",
              "          'plus': 1,\n",
              "          'pumpy': 1,\n",
              "          'quack': 3,\n",
              "          'quick': 1,\n",
              "          'rice': 1,\n",
              "          'see': 1,\n",
              "          'smoke': 1,\n",
              "          'that': 3,\n",
              "          'the': 4,\n",
              "          'thing': 1,\n",
              "          'three': 1,\n",
              "          'tight': 3,\n",
              "          'trap': 3,\n",
              "          'trees': 1,\n",
              "          'two': 2,\n",
              "          'uckers': 1,\n",
              "          'went': 1,\n",
              "          'were': 1,\n",
              "          'when': 1,\n",
              "          'whitney': 1,\n",
              "          'your': 2,\n",
              "          '—': 1})"
            ]
          },
          "metadata": {
            "tags": []
          },
          "execution_count": 15
        }
      ]
    },
    {
      "cell_type": "markdown",
      "metadata": {
        "id": "pQYSnofpQ6ix",
        "colab_type": "text"
      },
      "source": [
        ""
      ]
    },
    {
      "cell_type": "code",
      "metadata": {
        "id": "qoOqRPmhUMXw",
        "colab_type": "code",
        "colab": {
          "base_uri": "https://localhost:8080/",
          "height": 52
        },
        "outputId": "ff27cbd2-edbf-4de4-b8d5-335ee90865ec"
      },
      "source": [
        "nltk.download('reuters')"
      ],
      "execution_count": 16,
      "outputs": [
        {
          "output_type": "stream",
          "text": [
            "[nltk_data] Downloading package reuters to /root/nltk_data...\n"
          ],
          "name": "stdout"
        },
        {
          "output_type": "execute_result",
          "data": {
            "text/plain": [
              "True"
            ]
          },
          "metadata": {
            "tags": []
          },
          "execution_count": 16
        }
      ]
    },
    {
      "cell_type": "code",
      "metadata": {
        "id": "opcpbkHtTsKK",
        "colab_type": "code",
        "colab": {
          "base_uri": "https://localhost:8080/",
          "height": 35
        },
        "outputId": "5ba226ba-2fdd-49e5-f4f5-d4be22580c0a"
      },
      "source": [
        "from nltk.corpus import reuters\n",
        "text = Text(reuters.words()) # .words() is one method corpus readers provide for reading data from a corpus. We will learn more about these methods in Chapter 2.\n",
        "text.common_contexts(['boy', 'male']) # It seems that .common_contexts() takes 2 words which are used similarly and displays where they are used similarly. It also seems that '_' indicates where the words would be in the text."
      ],
      "execution_count": 17,
      "outputs": [
        {
          "output_type": "stream",
          "text": [
            "('The following word(s) were not found:', 'boy male')\n"
          ],
          "name": "stdout"
        }
      ]
    },
    {
      "cell_type": "markdown",
      "metadata": {
        "id": "EvQK7AUsQt3A",
        "colab_type": "text"
      },
      "source": [
        "#Tokenizers and n_grams"
      ]
    },
    {
      "cell_type": "code",
      "metadata": {
        "id": "i3B51WxBUIRA",
        "colab_type": "code",
        "colab": {}
      },
      "source": [
        "s = \"Le temps est un grand maître, dit-on, le malheur est qu'il tue ses élèves.\"\n",
        "s = s.lower()"
      ],
      "execution_count": 18,
      "outputs": []
    },
    {
      "cell_type": "code",
      "metadata": {
        "id": "N85j8P7pQ708",
        "colab_type": "code",
        "colab": {
          "base_uri": "https://localhost:8080/",
          "height": 284
        },
        "outputId": "e205d723-555e-45b6-cf15-cd8a570767b0"
      },
      "source": [
        "\n",
        "from nltk.tokenize import RegexpTokenizer\n",
        "tokenizer = RegexpTokenizer(\"[a-zA-Z'`éèî]+\")\n",
        "s_tokenized = tokenizer.tokenize(s)\n",
        "s_tokenized"
      ],
      "execution_count": 19,
      "outputs": [
        {
          "output_type": "execute_result",
          "data": {
            "text/plain": [
              "['le',\n",
              " 'temps',\n",
              " 'est',\n",
              " 'un',\n",
              " 'grand',\n",
              " 'maître',\n",
              " 'dit',\n",
              " 'on',\n",
              " 'le',\n",
              " 'malheur',\n",
              " 'est',\n",
              " \"qu'il\",\n",
              " 'tue',\n",
              " 'ses',\n",
              " 'élèves']"
            ]
          },
          "metadata": {
            "tags": []
          },
          "execution_count": 19
        }
      ]
    },
    {
      "cell_type": "code",
      "metadata": {
        "id": "64fPh6YgRS50",
        "colab_type": "code",
        "colab": {
          "base_uri": "https://localhost:8080/",
          "height": 1000
        },
        "outputId": "04349e2b-5b5a-4bbc-f3b5-17cc4f4deb99"
      },
      "source": [
        "from nltk.util import ngrams\n",
        "generated_4grams = []\n",
        "\n",
        "for word in s_tokenized:\n",
        "    generated_4grams.append(list(ngrams(word, 4, pad_left=True, pad_right=True, left_pad_symbol='_', right_pad_symbol='_'))) # n = 4.\n",
        "generated_4grams"
      ],
      "execution_count": 24,
      "outputs": [
        {
          "output_type": "execute_result",
          "data": {
            "text/plain": [
              "[[('_', '_', '_', 'l'),\n",
              "  ('_', '_', 'l', 'e'),\n",
              "  ('_', 'l', 'e', '_'),\n",
              "  ('l', 'e', '_', '_'),\n",
              "  ('e', '_', '_', '_')],\n",
              " [('_', '_', '_', 't'),\n",
              "  ('_', '_', 't', 'e'),\n",
              "  ('_', 't', 'e', 'm'),\n",
              "  ('t', 'e', 'm', 'p'),\n",
              "  ('e', 'm', 'p', 's'),\n",
              "  ('m', 'p', 's', '_'),\n",
              "  ('p', 's', '_', '_'),\n",
              "  ('s', '_', '_', '_')],\n",
              " [('_', '_', '_', 'e'),\n",
              "  ('_', '_', 'e', 's'),\n",
              "  ('_', 'e', 's', 't'),\n",
              "  ('e', 's', 't', '_'),\n",
              "  ('s', 't', '_', '_'),\n",
              "  ('t', '_', '_', '_')],\n",
              " [('_', '_', '_', 'u'),\n",
              "  ('_', '_', 'u', 'n'),\n",
              "  ('_', 'u', 'n', '_'),\n",
              "  ('u', 'n', '_', '_'),\n",
              "  ('n', '_', '_', '_')],\n",
              " [('_', '_', '_', 'g'),\n",
              "  ('_', '_', 'g', 'r'),\n",
              "  ('_', 'g', 'r', 'a'),\n",
              "  ('g', 'r', 'a', 'n'),\n",
              "  ('r', 'a', 'n', 'd'),\n",
              "  ('a', 'n', 'd', '_'),\n",
              "  ('n', 'd', '_', '_'),\n",
              "  ('d', '_', '_', '_')],\n",
              " [('_', '_', '_', 'm'),\n",
              "  ('_', '_', 'm', 'a'),\n",
              "  ('_', 'm', 'a', 'î'),\n",
              "  ('m', 'a', 'î', 't'),\n",
              "  ('a', 'î', 't', 'r'),\n",
              "  ('î', 't', 'r', 'e'),\n",
              "  ('t', 'r', 'e', '_'),\n",
              "  ('r', 'e', '_', '_'),\n",
              "  ('e', '_', '_', '_')],\n",
              " [('_', '_', '_', 'd'),\n",
              "  ('_', '_', 'd', 'i'),\n",
              "  ('_', 'd', 'i', 't'),\n",
              "  ('d', 'i', 't', '_'),\n",
              "  ('i', 't', '_', '_'),\n",
              "  ('t', '_', '_', '_')],\n",
              " [('_', '_', '_', 'o'),\n",
              "  ('_', '_', 'o', 'n'),\n",
              "  ('_', 'o', 'n', '_'),\n",
              "  ('o', 'n', '_', '_'),\n",
              "  ('n', '_', '_', '_')],\n",
              " [('_', '_', '_', 'l'),\n",
              "  ('_', '_', 'l', 'e'),\n",
              "  ('_', 'l', 'e', '_'),\n",
              "  ('l', 'e', '_', '_'),\n",
              "  ('e', '_', '_', '_')],\n",
              " [('_', '_', '_', 'm'),\n",
              "  ('_', '_', 'm', 'a'),\n",
              "  ('_', 'm', 'a', 'l'),\n",
              "  ('m', 'a', 'l', 'h'),\n",
              "  ('a', 'l', 'h', 'e'),\n",
              "  ('l', 'h', 'e', 'u'),\n",
              "  ('h', 'e', 'u', 'r'),\n",
              "  ('e', 'u', 'r', '_'),\n",
              "  ('u', 'r', '_', '_'),\n",
              "  ('r', '_', '_', '_')],\n",
              " [('_', '_', '_', 'e'),\n",
              "  ('_', '_', 'e', 's'),\n",
              "  ('_', 'e', 's', 't'),\n",
              "  ('e', 's', 't', '_'),\n",
              "  ('s', 't', '_', '_'),\n",
              "  ('t', '_', '_', '_')],\n",
              " [('_', '_', '_', 'q'),\n",
              "  ('_', '_', 'q', 'u'),\n",
              "  ('_', 'q', 'u', \"'\"),\n",
              "  ('q', 'u', \"'\", 'i'),\n",
              "  ('u', \"'\", 'i', 'l'),\n",
              "  (\"'\", 'i', 'l', '_'),\n",
              "  ('i', 'l', '_', '_'),\n",
              "  ('l', '_', '_', '_')],\n",
              " [('_', '_', '_', 't'),\n",
              "  ('_', '_', 't', 'u'),\n",
              "  ('_', 't', 'u', 'e'),\n",
              "  ('t', 'u', 'e', '_'),\n",
              "  ('u', 'e', '_', '_'),\n",
              "  ('e', '_', '_', '_')],\n",
              " [('_', '_', '_', 's'),\n",
              "  ('_', '_', 's', 'e'),\n",
              "  ('_', 's', 'e', 's'),\n",
              "  ('s', 'e', 's', '_'),\n",
              "  ('e', 's', '_', '_'),\n",
              "  ('s', '_', '_', '_')],\n",
              " [('_', '_', '_', 'é'),\n",
              "  ('_', '_', 'é', 'l'),\n",
              "  ('_', 'é', 'l', 'è'),\n",
              "  ('é', 'l', 'è', 'v'),\n",
              "  ('l', 'è', 'v', 'e'),\n",
              "  ('è', 'v', 'e', 's'),\n",
              "  ('v', 'e', 's', '_'),\n",
              "  ('e', 's', '_', '_'),\n",
              "  ('s', '_', '_', '_')]]"
            ]
          },
          "metadata": {
            "tags": []
          },
          "execution_count": 24
        }
      ]
    },
    {
      "cell_type": "code",
      "metadata": {
        "id": "HIwDqo9_SX9d",
        "colab_type": "code",
        "colab": {}
      },
      "source": [
        ""
      ],
      "execution_count": 31,
      "outputs": []
    },
    {
      "cell_type": "code",
      "metadata": {
        "id": "Ut0Lfdt8SvhM",
        "colab_type": "code",
        "colab": {
          "base_uri": "https://localhost:8080/",
          "height": 1000
        },
        "outputId": "4bdea9db-ae9c-463d-f102-f12b2e625eb7"
      },
      "source": [
        "g1"
      ],
      "execution_count": 32,
      "outputs": [
        {
          "output_type": "execute_result",
          "data": {
            "text/plain": [
              "[('_', '_', '_', 'l'),\n",
              " ('_', '_', 'l', 'e'),\n",
              " ('_', 'l', 'e', '_'),\n",
              " ('l', 'e', '_', '_'),\n",
              " ('e', '_', '_', '_'),\n",
              " ('_', '_', '_', 't'),\n",
              " ('_', '_', 't', 'e'),\n",
              " ('_', 't', 'e', 'm'),\n",
              " ('t', 'e', 'm', 'p'),\n",
              " ('e', 'm', 'p', 's'),\n",
              " ('m', 'p', 's', '_'),\n",
              " ('p', 's', '_', '_'),\n",
              " ('s', '_', '_', '_'),\n",
              " ('_', '_', '_', 'e'),\n",
              " ('_', '_', 'e', 's'),\n",
              " ('_', 'e', 's', 't'),\n",
              " ('e', 's', 't', '_'),\n",
              " ('s', 't', '_', '_'),\n",
              " ('t', '_', '_', '_'),\n",
              " ('_', '_', '_', 'u'),\n",
              " ('_', '_', 'u', 'n'),\n",
              " ('_', 'u', 'n', '_'),\n",
              " ('u', 'n', '_', '_'),\n",
              " ('n', '_', '_', '_'),\n",
              " ('_', '_', '_', 'g'),\n",
              " ('_', '_', 'g', 'r'),\n",
              " ('_', 'g', 'r', 'a'),\n",
              " ('g', 'r', 'a', 'n'),\n",
              " ('r', 'a', 'n', 'd'),\n",
              " ('a', 'n', 'd', '_'),\n",
              " ('n', 'd', '_', '_'),\n",
              " ('d', '_', '_', '_'),\n",
              " ('_', '_', '_', 'm'),\n",
              " ('_', '_', 'm', 'a'),\n",
              " ('_', 'm', 'a', 'î'),\n",
              " ('m', 'a', 'î', 't'),\n",
              " ('a', 'î', 't', 'r'),\n",
              " ('î', 't', 'r', 'e'),\n",
              " ('t', 'r', 'e', '_'),\n",
              " ('r', 'e', '_', '_'),\n",
              " ('e', '_', '_', '_'),\n",
              " ('_', '_', '_', 'd'),\n",
              " ('_', '_', 'd', 'i'),\n",
              " ('_', 'd', 'i', 't'),\n",
              " ('d', 'i', 't', '_'),\n",
              " ('i', 't', '_', '_'),\n",
              " ('t', '_', '_', '_'),\n",
              " ('_', '_', '_', 'o'),\n",
              " ('_', '_', 'o', 'n'),\n",
              " ('_', 'o', 'n', '_'),\n",
              " ('o', 'n', '_', '_'),\n",
              " ('n', '_', '_', '_'),\n",
              " ('_', '_', '_', 'l'),\n",
              " ('_', '_', 'l', 'e'),\n",
              " ('_', 'l', 'e', '_'),\n",
              " ('l', 'e', '_', '_'),\n",
              " ('e', '_', '_', '_'),\n",
              " ('_', '_', '_', 'm'),\n",
              " ('_', '_', 'm', 'a'),\n",
              " ('_', 'm', 'a', 'l'),\n",
              " ('m', 'a', 'l', 'h'),\n",
              " ('a', 'l', 'h', 'e'),\n",
              " ('l', 'h', 'e', 'u'),\n",
              " ('h', 'e', 'u', 'r'),\n",
              " ('e', 'u', 'r', '_'),\n",
              " ('u', 'r', '_', '_'),\n",
              " ('r', '_', '_', '_'),\n",
              " ('_', '_', '_', 'e'),\n",
              " ('_', '_', 'e', 's'),\n",
              " ('_', 'e', 's', 't'),\n",
              " ('e', 's', 't', '_'),\n",
              " ('s', 't', '_', '_'),\n",
              " ('t', '_', '_', '_'),\n",
              " ('_', '_', '_', 'q'),\n",
              " ('_', '_', 'q', 'u'),\n",
              " ('_', 'q', 'u', \"'\"),\n",
              " ('q', 'u', \"'\", 'i'),\n",
              " ('u', \"'\", 'i', 'l'),\n",
              " (\"'\", 'i', 'l', '_'),\n",
              " ('i', 'l', '_', '_'),\n",
              " ('l', '_', '_', '_'),\n",
              " ('_', '_', '_', 't'),\n",
              " ('_', '_', 't', 'u'),\n",
              " ('_', 't', 'u', 'e'),\n",
              " ('t', 'u', 'e', '_'),\n",
              " ('u', 'e', '_', '_'),\n",
              " ('e', '_', '_', '_'),\n",
              " ('_', '_', '_', 's'),\n",
              " ('_', '_', 's', 'e'),\n",
              " ('_', 's', 'e', 's'),\n",
              " ('s', 'e', 's', '_'),\n",
              " ('e', 's', '_', '_'),\n",
              " ('s', '_', '_', '_'),\n",
              " ('_', '_', '_', 'é'),\n",
              " ('_', '_', 'é', 'l'),\n",
              " ('_', 'é', 'l', 'è'),\n",
              " ('é', 'l', 'è', 'v'),\n",
              " ('l', 'è', 'v', 'e'),\n",
              " ('è', 'v', 'e', 's'),\n",
              " ('v', 'e', 's', '_'),\n",
              " ('e', 's', '_', '_'),\n",
              " ('s', '_', '_', '_')]"
            ]
          },
          "metadata": {
            "tags": []
          },
          "execution_count": 32
        }
      ]
    },
    {
      "cell_type": "code",
      "metadata": {
        "id": "jwL91FsJRgGw",
        "colab_type": "code",
        "colab": {
          "base_uri": "https://localhost:8080/",
          "height": 35
        },
        "outputId": "499b248b-1605-4f75-f911-837c8108dfec"
      },
      "source": [
        "generated_4grams = [word for sublist in generated_4grams for word in sublist]\n",
        "generated_4grams[:10]\n",
        "# same working as above\n",
        "\"\"\"generated_4grams=[]\n",
        "for sublist in generated_4grams:\n",
        "  for a in sublist:\n",
        "    generated_4grams.append(a)\"\"\""
      ],
      "execution_count": 33,
      "outputs": [
        {
          "output_type": "execute_result",
          "data": {
            "text/plain": [
              "'generated_4grams=[]\\nfor sublist in generated_4grams:\\n  for a in sublist:\\n    generated_4grams.append(a)'"
            ]
          },
          "metadata": {
            "tags": []
          },
          "execution_count": 33
        }
      ]
    },
    {
      "cell_type": "code",
      "metadata": {
        "id": "VFg8i-gOSWse",
        "colab_type": "code",
        "colab": {}
      },
      "source": [
        "for idx, val in enumerate(generated_4grams):\n",
        "  print(val,''.join(val))\n"
      ],
      "execution_count": null,
      "outputs": []
    },
    {
      "cell_type": "code",
      "metadata": {
        "id": "0rfaCSkkSDcw",
        "colab_type": "code",
        "colab": {}
      },
      "source": [
        "ng_list_4grams = generated_4grams\n",
        "for idx, val in enumerate(generated_4grams):\n",
        "    ng_list_4grams[idx] = ''.join(val)\n",
        "ng_list_4grams"
      ],
      "execution_count": null,
      "outputs": []
    },
    {
      "cell_type": "markdown",
      "metadata": {
        "id": "RDN3ovDHUfRb",
        "colab_type": "text"
      },
      "source": [
        "#sorting n-grams by frequency"
      ]
    },
    {
      "cell_type": "code",
      "metadata": {
        "id": "qu4nOqoZT7ij",
        "colab_type": "code",
        "colab": {}
      },
      "source": [
        "freq_4grams = {}\n",
        "\n",
        "for ngram in ng_list_4grams:\n",
        "    if ngram not in freq_4grams:\n",
        "        freq_4grams.update({ngram: 1})\n",
        "    else:\n",
        "        ngram_occurrences = freq_4grams[ngram]\n",
        "        freq_4grams.update({ngram: ngram_occurrences + 1})\n",
        "        \n"
      ],
      "execution_count": 39,
      "outputs": []
    },
    {
      "cell_type": "code",
      "metadata": {
        "id": "HODxCrbhU909",
        "colab_type": "code",
        "colab": {}
      },
      "source": [
        "from operator import itemgetter # The operator module exports a set of efficient functions corresponding to the intrinsic operators of Python. For example, operator.add(x, y) is equivalent to the expression x + y.\n",
        "\n",
        "freq_4grams_sorted = sorted(freq_4grams.items(), key=itemgetter(1), reverse=True)[0:300] # We only keep the 300 most popular n-grams. This was suggested in the original paper written about n-grams.\n",
        "freq_4grams_sorted"
      ],
      "execution_count": null,
      "outputs": []
    },
    {
      "cell_type": "markdown",
      "metadata": {
        "id": "9FbHgEvzV2Lz",
        "colab_type": "text"
      },
      "source": [
        "#Obtaining n-grams for multiple values of n"
      ]
    },
    {
      "cell_type": "code",
      "metadata": {
        "id": "VkBBrLXEVXnY",
        "colab_type": "code",
        "colab": {
          "base_uri": "https://localhost:8080/",
          "height": 35
        },
        "outputId": "d81bb598-25b7-4f61-f269-f655e1af33f5"
      },
      "source": [
        "from nltk import everygrams\n",
        "\n",
        "s_clean = ' '.join(s_tokenized) # For the code below we need the raw sentence as opposed to the tokens.\n",
        "s_clean"
      ],
      "execution_count": 41,
      "outputs": [
        {
          "output_type": "execute_result",
          "data": {
            "text/plain": [
              "\"le temps est un grand maître dit on le malheur est qu'il tue ses élèves\""
            ]
          },
          "metadata": {
            "tags": []
          },
          "execution_count": 41
        }
      ]
    },
    {
      "cell_type": "code",
      "metadata": {
        "id": "7YqqAsnLV74F",
        "colab_type": "code",
        "colab": {}
      },
      "source": [
        "def ngram_extractor(sent):\n",
        "    return [''.join(ng) for ng in everygrams(sent.replace(' ', '_ _'), 1, 4) \n",
        "            if ' ' not in ng and '\\n' not in ng and ng != ('_',)]\n",
        "\n",
        "ngram_extractor(s_clean)"
      ],
      "execution_count": null,
      "outputs": []
    },
    {
      "cell_type": "code",
      "metadata": {
        "id": "1La5vv-lWQue",
        "colab_type": "code",
        "colab": {}
      },
      "source": [
        "sent=\"hello pussy!\"\n",
        "list(everygrams(sent,1,4))"
      ],
      "execution_count": null,
      "outputs": []
    },
    {
      "cell_type": "markdown",
      "metadata": {
        "id": "IHnMJZpSpGfA",
        "colab_type": "text"
      },
      "source": [
        "\n",
        "#Detecting Text Language by Counting Stop Words"
      ]
    },
    {
      "cell_type": "code",
      "metadata": {
        "id": "ue4H994_WXGX",
        "colab_type": "code",
        "colab": {}
      },
      "source": [
        ""
      ],
      "execution_count": null,
      "outputs": []
    }
  ]
}